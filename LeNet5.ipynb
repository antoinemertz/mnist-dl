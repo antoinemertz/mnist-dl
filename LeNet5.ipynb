{
 "cells": [
  {
   "cell_type": "markdown",
   "metadata": {},
   "source": [
    "## SETUP"
   ]
  },
  {
   "cell_type": "code",
   "execution_count": 75,
   "metadata": {},
   "outputs": [],
   "source": [
    "import struct\n",
    "import numpy as np\n",
    "import matplotlib.pyplot as plt\n",
    "import tensorflow as tf\n",
    "from tensorflow.keras.models import Sequential\n",
    "from tensorflow.keras import layers, activations\n",
    "from sklearn.metrics import confusion_matrix"
   ]
  },
  {
   "cell_type": "code",
   "execution_count": 3,
   "metadata": {},
   "outputs": [],
   "source": [
    "BATCH_SIZE = 64\n",
    "SHUFFLE_BUFFER_SIZE = 100"
   ]
  },
  {
   "cell_type": "markdown",
   "metadata": {},
   "source": [
    "## READ DATA"
   ]
  },
  {
   "cell_type": "code",
   "execution_count": 4,
   "metadata": {},
   "outputs": [],
   "source": [
    "def read_images(file_name):\n",
    "    with open(file_name, 'rb') as f:\n",
    "        magic_number, training_size = struct.unpack(\">II\", f.read(8))\n",
    "        nrows, ncols = struct.unpack(\">II\", f.read(8))\n",
    "        data = np.fromfile(f, dtype=np.dtype(np.uint8).newbyteorder('>'))\n",
    "        data = data.reshape((training_size, nrows, ncols))\n",
    "    return data"
   ]
  },
  {
   "cell_type": "code",
   "execution_count": 5,
   "metadata": {},
   "outputs": [],
   "source": [
    "def read_labels(file_name):\n",
    "    with open(file_name, 'rb') as f:\n",
    "        magic_number, training_size = struct.unpack(\">II\", f.read(8))\n",
    "        data = np.fromfile(f, dtype=np.dtype(np.uint8).newbyteorder('>'))\n",
    "    return data"
   ]
  },
  {
   "cell_type": "code",
   "execution_count": 23,
   "metadata": {},
   "outputs": [],
   "source": [
    "raw_train_images = read_images('data/train-images-idx3-ubyte')"
   ]
  },
  {
   "cell_type": "code",
   "execution_count": 24,
   "metadata": {},
   "outputs": [],
   "source": [
    "train_labels = read_labels('data/train-labels-idx1-ubyte')"
   ]
  },
  {
   "cell_type": "code",
   "execution_count": 8,
   "metadata": {},
   "outputs": [
    {
     "name": "stdout",
     "output_type": "stream",
     "text": [
      "This is a 3\n"
     ]
    },
    {
     "data": {
      "image/png": "[encoded data removed]",
      "text/plain": [
       "<Figure size 432x288 with 1 Axes>"
      ]
     },
     "metadata": {
      "needs_background": "light"
     },
     "output_type": "display_data"
    }
   ],
   "source": [
    "plt.imshow(train_images[1234,:,:], cmap='gray')\n",
    "pass\n",
    "print(\"This is a {}\".format(train_labels[1234]))"
   ]
  },
  {
   "cell_type": "code",
   "execution_count": 9,
   "metadata": {},
   "outputs": [],
   "source": [
    "n_train, nrows, ncols = train_images.shape"
   ]
  },
  {
   "cell_type": "markdown",
   "metadata": {},
   "source": [
    "## LeNet-5"
   ]
  },
  {
   "cell_type": "code",
   "execution_count": 18,
   "metadata": {},
   "outputs": [],
   "source": [
    "LeNet5 = Sequential([\n",
    "    layers.Conv2D(filters=6, kernel_size=5, padding='valid', activation='relu', input_shape=(32, 32 ,1)),\n",
    "    layers.AveragePooling2D(strides=2, pool_size=2),\n",
    "    layers.Conv2D(filters=16, kernel_size=5, padding='valid', activation='relu', input_shape=(14, 14 ,1)),\n",
    "    layers.AveragePooling2D(strides=2, pool_size=2),\n",
    "    layers.Flatten(),\n",
    "    layers.Dense(120, activation='relu'),\n",
    "    layers.Dense(84, activation='relu'),\n",
    "    layers.Dense(10, activation='relu'),\n",
    "    layers.Softmax()\n",
    "])"
   ]
  },
  {
   "cell_type": "markdown",
   "metadata": {},
   "source": [
    "#### PREPROCESSING"
   ]
  },
  {
   "cell_type": "code",
   "execution_count": 25,
   "metadata": {},
   "outputs": [],
   "source": [
    "train_images = raw_train_images / 255."
   ]
  },
  {
   "cell_type": "code",
   "execution_count": 26,
   "metadata": {},
   "outputs": [],
   "source": [
    "train_images = tf.pad(train_images, paddings=([0,0], [2,2], [2,2],)).numpy()"
   ]
  },
  {
   "cell_type": "code",
   "execution_count": 27,
   "metadata": {},
   "outputs": [],
   "source": [
    "train_dataset = tf.data.Dataset.from_tensor_slices((train_images.reshape(n_train, 32,32, 1), train_labels))"
   ]
  },
  {
   "cell_type": "code",
   "execution_count": 28,
   "metadata": {},
   "outputs": [],
   "source": [
    "train_dataset = train_dataset.shuffle(SHUFFLE_BUFFER_SIZE).batch(BATCH_SIZE)"
   ]
  },
  {
   "cell_type": "code",
   "execution_count": 29,
   "metadata": {},
   "outputs": [
    {
     "data": {
      "text/plain": [
       "<BatchDataset shapes: ((None, 32, 32, 1), (None,)), types: (tf.float64, tf.uint8)>"
      ]
     },
     "execution_count": 29,
     "metadata": {},
     "output_type": "execute_result"
    }
   ],
   "source": [
    "train_dataset"
   ]
  },
  {
   "cell_type": "markdown",
   "metadata": {},
   "source": [
    "#### COMPILE AND FIT"
   ]
  },
  {
   "cell_type": "markdown",
   "metadata": {},
   "source": [
    "##### TENSORBOARD SETUP"
   ]
  },
  {
   "cell_type": "code",
   "execution_count": 39,
   "metadata": {},
   "outputs": [],
   "source": [
    "logdir = \"logs/scalars/\" + datetime.datetime.now().strftime(\"%Y%m%d-%H%M%S\")"
   ]
  },
  {
   "cell_type": "code",
   "execution_count": 40,
   "metadata": {},
   "outputs": [],
   "source": [
    "tensorboard_callback = tf.keras.callbacks.TensorBoard(log_dir=logdir)"
   ]
  },
  {
   "cell_type": "code",
   "execution_count": 41,
   "metadata": {},
   "outputs": [],
   "source": [
    "LeNet5.compile(optimizer=tf.keras.optimizers.Adam(),\n",
    "               loss=tf.losses.SparseCategoricalCrossentropy(),\n",
    "               metrics=['accuracy'],\n",
    "               callbacks=[tensorboard_callback],)"
   ]
  },
  {
   "cell_type": "code",
   "execution_count": 42,
   "metadata": {},
   "outputs": [
    {
     "name": "stdout",
     "output_type": "stream",
     "text": [
      "Epoch 1/100\n",
      "938/938 [==============================] - 12s 13ms/step - loss: 0.2293 - accuracy: 0.9012\n",
      "Epoch 2/100\n",
      "938/938 [==============================] - 11s 12ms/step - loss: 0.2273 - accuracy: 0.9017\n",
      "Epoch 3/100\n",
      "938/938 [==============================] - 12s 13ms/step - loss: 0.2314 - accuracy: 0.9007\n",
      "Epoch 4/100\n",
      "938/938 [==============================] - 13s 13ms/step - loss: 0.2265 - accuracy: 0.9018\n",
      "Epoch 5/100\n",
      "938/938 [==============================] - 13s 14ms/step - loss: 0.2285 - accuracy: 0.9014\n",
      "Epoch 6/100\n",
      "938/938 [==============================] - 12s 12ms/step - loss: 0.2278 - accuracy: 0.9016\n",
      "Epoch 7/100\n",
      "938/938 [==============================] - 12s 13ms/step - loss: 0.2280 - accuracy: 0.9016\n",
      "Epoch 8/100\n",
      "938/938 [==============================] - 12s 13ms/step - loss: 0.2288 - accuracy: 0.9012\n",
      "Epoch 9/100\n",
      "938/938 [==============================] - 13s 14ms/step - loss: 0.2269 - accuracy: 0.9018\n",
      "Epoch 10/100\n",
      "938/938 [==============================] - 12s 12ms/step - loss: 0.2298 - accuracy: 0.9012\n",
      "Epoch 11/100\n",
      "938/938 [==============================] - 12s 13ms/step - loss: 0.2278 - accuracy: 0.9016\n",
      "Epoch 12/100\n",
      "938/938 [==============================] - 12s 13ms/step - loss: 0.2267 - accuracy: 0.9018\n",
      "Epoch 13/100\n",
      "938/938 [==============================] - 12s 13ms/step - loss: 0.2269 - accuracy: 0.9019\n",
      "Epoch 14/100\n",
      "938/938 [==============================] - 12s 12ms/step - loss: 0.2286 - accuracy: 0.9013\n",
      "Epoch 15/100\n",
      "938/938 [==============================] - 12s 13ms/step - loss: 0.2287 - accuracy: 0.9014\n",
      "Epoch 16/100\n",
      "938/938 [==============================] - 14s 15ms/step - loss: 0.2273 - accuracy: 0.9018\n",
      "Epoch 17/100\n",
      "938/938 [==============================] - 13s 14ms/step - loss: 0.2273 - accuracy: 0.9017\n",
      "Epoch 18/100\n",
      "938/938 [==============================] - 13s 14ms/step - loss: 0.2272 - accuracy: 0.9016\n",
      "Epoch 19/100\n",
      "938/938 [==============================] - 15s 16ms/step - loss: 0.2288 - accuracy: 0.9014\n",
      "Epoch 20/100\n",
      "938/938 [==============================] - 14s 15ms/step - loss: 0.2280 - accuracy: 0.9014\n",
      "Epoch 21/100\n",
      "938/938 [==============================] - 13s 14ms/step - loss: 0.2284 - accuracy: 0.9015\n",
      "Epoch 22/100\n",
      "938/938 [==============================] - 13s 13ms/step - loss: 0.2274 - accuracy: 0.9017\n",
      "Epoch 23/100\n",
      "938/938 [==============================] - 13s 13ms/step - loss: 0.2258 - accuracy: 0.9021\n",
      "Epoch 24/100\n",
      "938/938 [==============================] - 13s 13ms/step - loss: 0.2266 - accuracy: 0.9019\n",
      "Epoch 25/100\n",
      "938/938 [==============================] - 13s 14ms/step - loss: 0.2293 - accuracy: 0.9014\n",
      "Epoch 26/100\n",
      "938/938 [==============================] - 13s 13ms/step - loss: 0.2263 - accuracy: 0.9020\n",
      "Epoch 27/100\n",
      "938/938 [==============================] - 13s 13ms/step - loss: 0.2270 - accuracy: 0.9018\n",
      "Epoch 28/100\n",
      "938/938 [==============================] - 13s 13ms/step - loss: 0.2283 - accuracy: 0.9016\n",
      "Epoch 29/100\n",
      "938/938 [==============================] - 12s 13ms/step - loss: 0.2266 - accuracy: 0.9019\n",
      "Epoch 30/100\n",
      "938/938 [==============================] - 11s 12ms/step - loss: 0.2257 - accuracy: 0.9021\n",
      "Epoch 31/100\n",
      "938/938 [==============================] - 12s 12ms/step - loss: 0.2289 - accuracy: 0.9015\n",
      "Epoch 32/100\n",
      "938/938 [==============================] - 11s 12ms/step - loss: 0.2260 - accuracy: 0.9021\n",
      "Epoch 33/100\n",
      "938/938 [==============================] - 12s 13ms/step - loss: 0.2289 - accuracy: 0.9014\n",
      "Epoch 34/100\n",
      "938/938 [==============================] - 13s 14ms/step - loss: 0.2262 - accuracy: 0.9020\n",
      "Epoch 35/100\n",
      "938/938 [==============================] - 13s 14ms/step - loss: 0.2275 - accuracy: 0.9017\n",
      "Epoch 36/100\n",
      "938/938 [==============================] - 14s 15ms/step - loss: 0.2252 - accuracy: 0.9022\n",
      "Epoch 37/100\n",
      "938/938 [==============================] - 14s 15ms/step - loss: 0.2259 - accuracy: 0.9021\n",
      "Epoch 38/100\n",
      "938/938 [==============================] - 14s 15ms/step - loss: 0.2301 - accuracy: 0.9010\n",
      "Epoch 39/100\n",
      "938/938 [==============================] - 14s 15ms/step - loss: 0.2254 - accuracy: 0.9022\n",
      "Epoch 40/100\n",
      "938/938 [==============================] - 14s 14ms/step - loss: 0.2273 - accuracy: 0.9018\n",
      "Epoch 41/100\n",
      "938/938 [==============================] - 14s 14ms/step - loss: 0.2272 - accuracy: 0.9018\n",
      "Epoch 42/100\n",
      "938/938 [==============================] - 13s 14ms/step - loss: 0.2280 - accuracy: 0.9015\n",
      "Epoch 43/100\n",
      "938/938 [==============================] - 13s 14ms/step - loss: 0.2262 - accuracy: 0.9020\n",
      "Epoch 44/100\n",
      "938/938 [==============================] - 13s 14ms/step - loss: 0.2270 - accuracy: 0.9019\n",
      "Epoch 45/100\n",
      "938/938 [==============================] - 13s 14ms/step - loss: 0.2274 - accuracy: 0.9017\n",
      "Epoch 46/100\n",
      "938/938 [==============================] - 13s 14ms/step - loss: 0.2261 - accuracy: 0.9020\n",
      "Epoch 47/100\n",
      "938/938 [==============================] - 13s 14ms/step - loss: 0.2264 - accuracy: 0.9019\n",
      "Epoch 48/100\n",
      "938/938 [==============================] - 13s 14ms/step - loss: 0.2264 - accuracy: 0.9020\n",
      "Epoch 49/100\n",
      "938/938 [==============================] - 13s 14ms/step - loss: 0.2279 - accuracy: 0.9015\n",
      "Epoch 50/100\n",
      "938/938 [==============================] - 13s 14ms/step - loss: 0.2262 - accuracy: 0.9019\n",
      "Epoch 51/100\n",
      "938/938 [==============================] - 13s 13ms/step - loss: 0.2270 - accuracy: 0.9019\n",
      "Epoch 52/100\n",
      "938/938 [==============================] - 13s 13ms/step - loss: 0.2266 - accuracy: 0.9019\n",
      "Epoch 53/100\n",
      "938/938 [==============================] - 13s 13ms/step - loss: 0.2282 - accuracy: 0.9016\n",
      "Epoch 54/100\n",
      "938/938 [==============================] - 13s 13ms/step - loss: 0.2259 - accuracy: 0.9020\n",
      "Epoch 55/100\n",
      "938/938 [==============================] - 13s 14ms/step - loss: 0.2253 - accuracy: 0.9022\n",
      "Epoch 56/100\n",
      "938/938 [==============================] - 13s 14ms/step - loss: 0.2289 - accuracy: 0.9015\n",
      "Epoch 57/100\n",
      "938/938 [==============================] - 13s 14ms/step - loss: 0.2263 - accuracy: 0.9020\n",
      "Epoch 58/100\n",
      "938/938 [==============================] - 13s 14ms/step - loss: 0.2265 - accuracy: 0.9019\n",
      "Epoch 59/100\n",
      "938/938 [==============================] - 14s 15ms/step - loss: 0.2274 - accuracy: 0.9018\n",
      "Epoch 60/100\n",
      "938/938 [==============================] - 15s 16ms/step - loss: 0.2265 - accuracy: 0.9019\n",
      "Epoch 61/100\n",
      "938/938 [==============================] - 13s 14ms/step - loss: 0.2263 - accuracy: 0.9020\n",
      "Epoch 62/100\n",
      "938/938 [==============================] - 13s 14ms/step - loss: 0.2285 - accuracy: 0.9015\n",
      "Epoch 63/100\n",
      "938/938 [==============================] - 13s 14ms/step - loss: 0.2255 - accuracy: 0.9022\n",
      "Epoch 64/100\n",
      "938/938 [==============================] - 13s 14ms/step - loss: 0.2251 - accuracy: 0.9023\n",
      "Epoch 65/100\n",
      "938/938 [==============================] - 13s 14ms/step - loss: 0.2250 - accuracy: 0.9023\n",
      "Epoch 66/100\n",
      "938/938 [==============================] - 13s 14ms/step - loss: 0.2250 - accuracy: 0.9023\n",
      "Epoch 67/100\n",
      "938/938 [==============================] - 13s 14ms/step - loss: 0.2250 - accuracy: 0.9023\n",
      "Epoch 68/100\n",
      "938/938 [==============================] - 14s 15ms/step - loss: 0.2250 - accuracy: 0.9023\n",
      "Epoch 69/100\n",
      "938/938 [==============================] - 13s 14ms/step - loss: 0.2250 - accuracy: 0.9023\n",
      "Epoch 70/100\n",
      "938/938 [==============================] - 13s 14ms/step - loss: 0.2250 - accuracy: 0.9023\n",
      "Epoch 71/100\n",
      "938/938 [==============================] - 13s 14ms/step - loss: 0.2250 - accuracy: 0.9023\n",
      "Epoch 72/100\n",
      "938/938 [==============================] - 15s 16ms/step - loss: 0.2276 - accuracy: 0.9017\n",
      "Epoch 73/100\n",
      "938/938 [==============================] - 14s 15ms/step - loss: 0.2306 - accuracy: 0.9010\n",
      "Epoch 74/100\n",
      "938/938 [==============================] - 15s 16ms/step - loss: 0.2272 - accuracy: 0.9018\n",
      "Epoch 75/100\n",
      "938/938 [==============================] - 15s 16ms/step - loss: 0.2259 - accuracy: 0.9021\n",
      "Epoch 76/100\n",
      "938/938 [==============================] - 13s 14ms/step - loss: 0.2257 - accuracy: 0.9021\n",
      "Epoch 77/100\n",
      "938/938 [==============================] - 13s 13ms/step - loss: 0.2258 - accuracy: 0.9021\n",
      "Epoch 78/100\n",
      "938/938 [==============================] - 13s 13ms/step - loss: 0.2284 - accuracy: 0.9017\n",
      "Epoch 79/100\n",
      "938/938 [==============================] - 13s 14ms/step - loss: 0.2273 - accuracy: 0.9017\n",
      "Epoch 80/100\n",
      "938/938 [==============================] - 13s 14ms/step - loss: 0.2263 - accuracy: 0.9019\n",
      "Epoch 81/100\n",
      "938/938 [==============================] - 13s 14ms/step - loss: 0.2276 - accuracy: 0.9018\n",
      "Epoch 82/100\n",
      "938/938 [==============================] - 13s 14ms/step - loss: 0.2262 - accuracy: 0.9021\n",
      "Epoch 83/100\n",
      "938/938 [==============================] - 13s 14ms/step - loss: 0.2251 - accuracy: 0.9022\n",
      "Epoch 84/100\n",
      "938/938 [==============================] - 13s 14ms/step - loss: 0.2251 - accuracy: 0.9023\n",
      "Epoch 85/100\n",
      "938/938 [==============================] - 13s 14ms/step - loss: 0.2302 - accuracy: 0.9013\n",
      "Epoch 86/100\n",
      "938/938 [==============================] - 13s 14ms/step - loss: 0.2268 - accuracy: 0.9018\n",
      "Epoch 87/100\n",
      "938/938 [==============================] - 14s 15ms/step - loss: 0.2266 - accuracy: 0.9019\n",
      "Epoch 88/100\n",
      "938/938 [==============================] - 13s 14ms/step - loss: 0.2267 - accuracy: 0.9018\n",
      "Epoch 89/100\n",
      "938/938 [==============================] - 13s 14ms/step - loss: 0.2256 - accuracy: 0.9022\n",
      "Epoch 90/100\n",
      "938/938 [==============================] - 14s 14ms/step - loss: 0.2254 - accuracy: 0.9022\n",
      "Epoch 91/100\n",
      "938/938 [==============================] - 13s 14ms/step - loss: 0.2288 - accuracy: 0.9016\n",
      "Epoch 92/100\n",
      "938/938 [==============================] - 13s 14ms/step - loss: 0.2258 - accuracy: 0.9021\n",
      "Epoch 93/100\n",
      "938/938 [==============================] - 13s 14ms/step - loss: 0.2262 - accuracy: 0.9020\n",
      "Epoch 94/100\n",
      "938/938 [==============================] - 13s 14ms/step - loss: 0.2271 - accuracy: 0.9018\n",
      "Epoch 95/100\n",
      "938/938 [==============================] - 13s 14ms/step - loss: 0.2264 - accuracy: 0.9020\n",
      "Epoch 96/100\n",
      "938/938 [==============================] - 13s 14ms/step - loss: 0.2255 - accuracy: 0.9021\n",
      "Epoch 97/100\n",
      "938/938 [==============================] - 13s 14ms/step - loss: 0.2251 - accuracy: 0.9023\n",
      "Epoch 98/100\n",
      "938/938 [==============================] - 13s 14ms/step - loss: 0.2250 - accuracy: 0.9023\n",
      "Epoch 99/100\n",
      "938/938 [==============================] - 13s 14ms/step - loss: 0.2250 - accuracy: 0.9023\n",
      "Epoch 100/100\n",
      "938/938 [==============================] - 13s 14ms/step - loss: 0.2250 - accuracy: 0.9023\n"
     ]
    },
    {
     "data": {
      "text/plain": [
       "<tensorflow.python.keras.callbacks.History at 0x137cc6810>"
      ]
     },
     "execution_count": 42,
     "metadata": {},
     "output_type": "execute_result"
    }
   ],
   "source": [
    "LeNet5.fit(train_dataset, epochs=100)"
   ]
  },
  {
   "cell_type": "markdown",
   "metadata": {},
   "source": [
    "#### EVALUATE"
   ]
  },
  {
   "cell_type": "code",
   "execution_count": 43,
   "metadata": {},
   "outputs": [],
   "source": [
    "raw_test_images = read_images('data/t10k-images-idx3-ubyte')\n",
    "test_labels = read_labels('data/t10k-labels-idx1-ubyte')"
   ]
  },
  {
   "cell_type": "code",
   "execution_count": 63,
   "metadata": {},
   "outputs": [],
   "source": [
    "n_test = raw_test_images.shape[0]"
   ]
  },
  {
   "cell_type": "code",
   "execution_count": 46,
   "metadata": {},
   "outputs": [],
   "source": [
    "test_images = raw_test_images / 255."
   ]
  },
  {
   "cell_type": "code",
   "execution_count": 47,
   "metadata": {},
   "outputs": [],
   "source": [
    "test_images = tf.pad(test_images, paddings=([0,0], [2,2], [2,2],)).numpy()"
   ]
  },
  {
   "cell_type": "code",
   "execution_count": 65,
   "metadata": {},
   "outputs": [],
   "source": [
    "test_dataset = tf.data.Dataset.from_tensor_slices((test_images.reshape(-1, 32, 32, 1)))"
   ]
  },
  {
   "cell_type": "code",
   "execution_count": 66,
   "metadata": {},
   "outputs": [],
   "source": [
    "test_dataset = test_dataset.batch(n_test)"
   ]
  },
  {
   "cell_type": "code",
   "execution_count": 69,
   "metadata": {},
   "outputs": [],
   "source": [
    "predictions = LeNet5.predict(test_dataset)"
   ]
  },
  {
   "cell_type": "code",
   "execution_count": 70,
   "metadata": {},
   "outputs": [],
   "source": [
    "y_pred = np.argmax(predictions, axis=1)"
   ]
  },
  {
   "cell_type": "code",
   "execution_count": null,
   "metadata": {},
   "outputs": [],
   "source": []
  },
  {
   "cell_type": "code",
   "execution_count": 76,
   "metadata": {},
   "outputs": [
    {
     "data": {
      "text/plain": [
       "array([[ 976,    0,    0,    0,    2,    0,    1,    0,    0,    1],\n",
       "       [   0, 1129,    3,    0,    0,    0,    1,    1,    0,    1],\n",
       "       [   2,    1, 1025,    0,    1,    0,    0,    3,    0,    0],\n",
       "       [   0,    0,    2, 1003,    0,    3,    0,    2,    0,    0],\n",
       "       [   0,    0,    1,    0,  975,    0,    2,    0,    0,    4],\n",
       "       [   2,    0,    0,    5,    0,  879,    4,    1,    0,    1],\n",
       "       [   6,    2,    0,    0,    3,    2,  945,    0,    0,    0],\n",
       "       [   2,    2,    1,    1,    0,    0,    0, 1019,    0,    3],\n",
       "       [ 968,    0,    2,    1,    1,    0,    0,    0,    0,    2],\n",
       "       [   0,    0,    0,    2,    8,    3,    0,    3,    0,  993]])"
      ]
     },
     "execution_count": 76,
     "metadata": {},
     "output_type": "execute_result"
    }
   ],
   "source": [
    "confusion_matrix(y_pred=y_pred, y_true=test_labels)"
   ]
  },
  {
   "cell_type": "markdown",
   "metadata": {},
   "source": [
    "#### TO DO\n",
    "\n",
    "- [ ] clean evaluation on validation set\n",
    "- [ ] add tensorboard\n",
    "- [ ] add image processing (crop, pivot, etc...)"
   ]
  },
  {
   "cell_type": "code",
   "execution_count": null,
   "metadata": {},
   "outputs": [],
   "source": []
  }
 ],
 "metadata": {
  "kernelspec": {
   "display_name": "Python 3",
   "language": "python",
   "name": "python3"
  },
  "language_info": {
   "codemirror_mode": {
    "name": "ipython",
    "version": 3
   },
   "file_extension": ".py",
   "mimetype": "text/x-python",
   "name": "python",
   "nbconvert_exporter": "python",
   "pygments_lexer": "ipython3",
   "version": "3.7.4"
  }
 },
 "nbformat": 4,
 "nbformat_minor": 4
}
